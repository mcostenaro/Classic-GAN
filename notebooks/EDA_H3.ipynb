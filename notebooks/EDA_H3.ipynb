{
 "cells": [
  {
   "cell_type": "code",
   "execution_count": 1,
   "id": "00caa34d",
   "metadata": {},
   "outputs": [
    {
     "name": "stdout",
     "output_type": "stream",
     "text": [
      "Shape: (4521, 28)\n"
     ]
    },
    {
     "data": {
      "text/html": [
       "<div>\n",
       "<style scoped>\n",
       "    .dataframe tbody tr th:only-of-type {\n",
       "        vertical-align: middle;\n",
       "    }\n",
       "\n",
       "    .dataframe tbody tr th {\n",
       "        vertical-align: top;\n",
       "    }\n",
       "\n",
       "    .dataframe thead th {\n",
       "        text-align: right;\n",
       "    }\n",
       "</style>\n",
       "<table border=\"1\" class=\"dataframe\">\n",
       "  <thead>\n",
       "    <tr style=\"text-align: right;\">\n",
       "      <th></th>\n",
       "      <th>0</th>\n",
       "      <th>1</th>\n",
       "      <th>2</th>\n",
       "      <th>3</th>\n",
       "      <th>4</th>\n",
       "      <th>5</th>\n",
       "      <th>6</th>\n",
       "      <th>7</th>\n",
       "      <th>8</th>\n",
       "      <th>9</th>\n",
       "      <th>...</th>\n",
       "      <th>18</th>\n",
       "      <th>19</th>\n",
       "      <th>20</th>\n",
       "      <th>21</th>\n",
       "      <th>22</th>\n",
       "      <th>23</th>\n",
       "      <th>24</th>\n",
       "      <th>25</th>\n",
       "      <th>26</th>\n",
       "      <th>labels</th>\n",
       "    </tr>\n",
       "  </thead>\n",
       "  <tbody>\n",
       "    <tr>\n",
       "      <th>0</th>\n",
       "      <td>0.000000</td>\n",
       "      <td>0</td>\n",
       "      <td>-0.468599</td>\n",
       "      <td>0.259185</td>\n",
       "      <td>-0.210757</td>\n",
       "      <td>0.168148</td>\n",
       "      <td>-0.154028</td>\n",
       "      <td>0.145435</td>\n",
       "      <td>-0.154028</td>\n",
       "      <td>-0.468599</td>\n",
       "      <td>...</td>\n",
       "      <td>-0.210757</td>\n",
       "      <td>0.168148</td>\n",
       "      <td>-0.154028</td>\n",
       "      <td>0.145435</td>\n",
       "      <td>-0.154028</td>\n",
       "      <td>0.063247</td>\n",
       "      <td>0.063247</td>\n",
       "      <td>0.063247</td>\n",
       "      <td>0.189742</td>\n",
       "      <td>0</td>\n",
       "    </tr>\n",
       "    <tr>\n",
       "      <th>1</th>\n",
       "      <td>0.000435</td>\n",
       "      <td>0</td>\n",
       "      <td>-0.468599</td>\n",
       "      <td>0.258989</td>\n",
       "      <td>-0.210404</td>\n",
       "      <td>0.167764</td>\n",
       "      <td>-0.153587</td>\n",
       "      <td>0.145006</td>\n",
       "      <td>-0.153587</td>\n",
       "      <td>-0.468599</td>\n",
       "      <td>...</td>\n",
       "      <td>-0.210404</td>\n",
       "      <td>0.167764</td>\n",
       "      <td>-0.153587</td>\n",
       "      <td>0.145006</td>\n",
       "      <td>-0.153587</td>\n",
       "      <td>0.063069</td>\n",
       "      <td>0.063069</td>\n",
       "      <td>0.063069</td>\n",
       "      <td>0.189206</td>\n",
       "      <td>0</td>\n",
       "    </tr>\n",
       "    <tr>\n",
       "      <th>2</th>\n",
       "      <td>0.000869</td>\n",
       "      <td>0</td>\n",
       "      <td>-0.468598</td>\n",
       "      <td>0.258790</td>\n",
       "      <td>-0.210047</td>\n",
       "      <td>0.167378</td>\n",
       "      <td>-0.153143</td>\n",
       "      <td>0.144575</td>\n",
       "      <td>-0.153143</td>\n",
       "      <td>-0.468598</td>\n",
       "      <td>...</td>\n",
       "      <td>-0.210047</td>\n",
       "      <td>0.167378</td>\n",
       "      <td>-0.153143</td>\n",
       "      <td>0.144575</td>\n",
       "      <td>-0.153143</td>\n",
       "      <td>0.062890</td>\n",
       "      <td>0.062890</td>\n",
       "      <td>0.062890</td>\n",
       "      <td>0.188669</td>\n",
       "      <td>0</td>\n",
       "    </tr>\n",
       "    <tr>\n",
       "      <th>3</th>\n",
       "      <td>0.001304</td>\n",
       "      <td>0</td>\n",
       "      <td>-0.468596</td>\n",
       "      <td>0.258589</td>\n",
       "      <td>-0.209688</td>\n",
       "      <td>0.166988</td>\n",
       "      <td>-0.152697</td>\n",
       "      <td>0.144141</td>\n",
       "      <td>-0.152697</td>\n",
       "      <td>-0.468596</td>\n",
       "      <td>...</td>\n",
       "      <td>-0.209688</td>\n",
       "      <td>0.166988</td>\n",
       "      <td>-0.152697</td>\n",
       "      <td>0.144141</td>\n",
       "      <td>-0.152697</td>\n",
       "      <td>0.062710</td>\n",
       "      <td>0.062710</td>\n",
       "      <td>0.062710</td>\n",
       "      <td>0.188130</td>\n",
       "      <td>0</td>\n",
       "    </tr>\n",
       "    <tr>\n",
       "      <th>4</th>\n",
       "      <td>0.001739</td>\n",
       "      <td>0</td>\n",
       "      <td>-0.468594</td>\n",
       "      <td>0.258386</td>\n",
       "      <td>-0.209326</td>\n",
       "      <td>0.166596</td>\n",
       "      <td>-0.152247</td>\n",
       "      <td>0.143704</td>\n",
       "      <td>-0.152247</td>\n",
       "      <td>-0.468594</td>\n",
       "      <td>...</td>\n",
       "      <td>-0.209326</td>\n",
       "      <td>0.166596</td>\n",
       "      <td>-0.152247</td>\n",
       "      <td>0.143704</td>\n",
       "      <td>-0.152247</td>\n",
       "      <td>0.062530</td>\n",
       "      <td>0.062530</td>\n",
       "      <td>0.062530</td>\n",
       "      <td>0.187590</td>\n",
       "      <td>0</td>\n",
       "    </tr>\n",
       "  </tbody>\n",
       "</table>\n",
       "<p>5 rows × 28 columns</p>\n",
       "</div>"
      ],
      "text/plain": [
       "          0  1         2         3         4         5         6         7  \\\n",
       "0  0.000000  0 -0.468599  0.259185 -0.210757  0.168148 -0.154028  0.145435   \n",
       "1  0.000435  0 -0.468599  0.258989 -0.210404  0.167764 -0.153587  0.145006   \n",
       "2  0.000869  0 -0.468598  0.258790 -0.210047  0.167378 -0.153143  0.144575   \n",
       "3  0.001304  0 -0.468596  0.258589 -0.209688  0.166988 -0.152697  0.144141   \n",
       "4  0.001739  0 -0.468594  0.258386 -0.209326  0.166596 -0.152247  0.143704   \n",
       "\n",
       "          8         9  ...        18        19        20        21        22  \\\n",
       "0 -0.154028 -0.468599  ... -0.210757  0.168148 -0.154028  0.145435 -0.154028   \n",
       "1 -0.153587 -0.468599  ... -0.210404  0.167764 -0.153587  0.145006 -0.153587   \n",
       "2 -0.153143 -0.468598  ... -0.210047  0.167378 -0.153143  0.144575 -0.153143   \n",
       "3 -0.152697 -0.468596  ... -0.209688  0.166988 -0.152697  0.144141 -0.152697   \n",
       "4 -0.152247 -0.468594  ... -0.209326  0.166596 -0.152247  0.143704 -0.152247   \n",
       "\n",
       "         23        24        25        26  labels  \n",
       "0  0.063247  0.063247  0.063247  0.189742       0  \n",
       "1  0.063069  0.063069  0.063069  0.189206       0  \n",
       "2  0.062890  0.062890  0.062890  0.188669       0  \n",
       "3  0.062710  0.062710  0.062710  0.188130       0  \n",
       "4  0.062530  0.062530  0.062530  0.187590       0  \n",
       "\n",
       "[5 rows x 28 columns]"
      ]
     },
     "metadata": {},
     "output_type": "display_data"
    }
   ],
   "source": [
    "# --- setup ---------------------------\n",
    "import pandas as pd, numpy as np, matplotlib.pyplot as plt\n",
    "import seaborn as sns, pathlib as pl\n",
    "from sklearn.decomposition import PCA\n",
    "from sklearn.manifold import TSNE\n",
    "\n",
    "TAG = \"H3\"                           # troque em cada notebook\n",
    "LAB = pl.Path(\"..\") / \"data\" / \"labeled\"\n",
    "df  = pd.read_csv(LAB / f\"{TAG}_labeled.csv\")\n",
    "\n",
    "print(\"Shape:\", df.shape)\n",
    "display(df.head())"
   ]
  },
  {
   "cell_type": "code",
   "execution_count": 2,
   "id": "4c45ee58",
   "metadata": {},
   "outputs": [
    {
     "name": "stdout",
     "output_type": "stream",
     "text": [
      "[0]\n"
     ]
    }
   ],
   "source": [
    "print(df.iloc[:, 1].unique())"
   ]
  },
  {
   "cell_type": "code",
   "execution_count": 6,
   "id": "b9be0f1a",
   "metadata": {},
   "outputs": [
    {
     "name": "stdout",
     "output_type": "stream",
     "text": [
      "False\n"
     ]
    }
   ],
   "source": [
    "iguais = (df.iloc[:, 24] == df.iloc[:, 25]).all()\n",
    "print(iguais)"
   ]
  },
  {
   "cell_type": "code",
   "execution_count": 2,
   "id": "72c0cabb",
   "metadata": {},
   "outputs": [
    {
     "data": {
      "image/png": "[encoded data removed]",
      "text/plain": [
       "<Figure size 640x480 with 1 Axes>"
      ]
     },
     "metadata": {},
     "output_type": "display_data"
    }
   ],
   "source": [
    "df[\"labels\"].value_counts().sort_index().plot.bar(rot=0)\n",
    "plt.title(f\"{TAG} – Couting per label\"); plt.show()"
   ]
  },
  {
   "cell_type": "code",
   "execution_count": null,
   "id": "7d9fc08a",
   "metadata": {},
   "outputs": [],
   "source": []
  }
 ],
 "metadata": {
  "kernelspec": {
   "display_name": "gans",
   "language": "python",
   "name": "python3"
  },
  "language_info": {
   "codemirror_mode": {
    "name": "ipython",
    "version": 3
   },
   "file_extension": ".py",
   "mimetype": "text/x-python",
   "name": "python",
   "nbconvert_exporter": "python",
   "pygments_lexer": "ipython3",
   "version": "3.13.5"
  }
 },
 "nbformat": 4,
 "nbformat_minor": 5
}
